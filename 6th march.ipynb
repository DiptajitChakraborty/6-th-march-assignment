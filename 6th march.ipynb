{
 "cells": [
  {
   "cell_type": "markdown",
   "id": "fd4c8e67-7ce5-41d4-b1c4-5b7aa9bd4cdc",
   "metadata": {},
   "source": [
    "Q1. What is Statistics?"
   ]
  },
  {
   "cell_type": "markdown",
   "id": "1a09739a-9098-465c-b55a-c6034ec75f6c",
   "metadata": {},
   "source": [
    "Ans: Statistics is the science of collecting,organizing and analysing data. Here data is facts or pieces of information."
   ]
  },
  {
   "cell_type": "markdown",
   "id": "e5a95e4f-0f88-4ad8-9a41-be2d29f6d11b",
   "metadata": {},
   "source": [
    "Q2. Define the different types of statistics and give an example of when each type might be used."
   ]
  },
  {
   "cell_type": "markdown",
   "id": "f517838f-cefb-42ae-bc31-2c52212c77fe",
   "metadata": {},
   "source": [
    "Ans: There are 2 types of statistics 1.Descriptive Statistics and 2.inferential statistics.\n",
    "Descriptive statistics is used for summarizing data and inferential statistics is used to draw the conclusion.\n",
    "Eg of descriptive statistics: Histogram , Eg of inferential statistics: Z-test"
   ]
  },
  {
   "cell_type": "markdown",
   "id": "5f117231-a056-4c35-8527-5a5fc5e7892d",
   "metadata": {},
   "source": [
    "Q3. What are the different types of data and how do they differ from each other? Provide an example of\n",
    "each type of data."
   ]
  },
  {
   "cell_type": "markdown",
   "id": "6e126549-003f-441e-b21e-9fbb88cd7eeb",
   "metadata": {},
   "source": [
    "Ans: Data are of 2 types 1. Qualitative data and 2.Quantitative data. qualitative is all about non numeric value where quantitative is all about numeric value .Further qualitative is devided in 2 parts 1.Nominal and 2.Ordinal.Nominal is that type of data which cannot be orderes. eg.Religion,Blood groip and Ordinal can be orderd eg. grades.\n",
    "Quantitaive data are also devided in 2 parts.1.Discrete and 2.Continuous.Discrete is a isolate value eg.10,15,20etc and continuous lies between range eg.10-20,20-30 etc."
   ]
  },
  {
   "cell_type": "markdown",
   "id": "f3fd5f61-8128-4083-a3d7-50c836e09eb4",
   "metadata": {},
   "source": [
    "Q4. Categorise the following datasets with respect to quantitative and qualitative data types:\n",
    "(i) Grading in exam: A+, A, B+, B, C+, C, D, E\n",
    "(ii) Colour of mangoes: yellow, green, orange, red\n",
    "(iii) Height data of a class: [178.9, 179, 179.5, 176, 177.2, 178.3, 175.8,...]\n",
    "(iv) Number of mangoes exported by a farm: [500, 600, 478, 672, ...]"
   ]
  },
  {
   "cell_type": "markdown",
   "id": "e50adf72-1994-4313-847f-d43d8089ab86",
   "metadata": {},
   "source": [
    "(i) Qualitative(Ordinal)\n",
    "(ii)Qualitative(Nominal)\n",
    "(iii)Quantitaive(Continuous)\n",
    "(iv)Quantitative(Discrete)"
   ]
  },
  {
   "cell_type": "markdown",
   "id": "549fae39-e652-47c1-ba4c-1dfda80e3e46",
   "metadata": {},
   "source": [
    "Q5. Explain the concept of levels of measurement and give an example of a variable for each level."
   ]
  },
  {
   "cell_type": "markdown",
   "id": "50d0aa9d-45f3-4269-9d86-e0cd0fa92e92",
   "metadata": {},
   "source": [
    "ans:(i)Nominal scale data: It is scale of qualitative data,order doesn't maatter. eg: Gender,Colours , (ii)Ordinal scale data: Here ranking is importaant.order matters, but difference can't be measued eg. Grades. , (iii)Interval scale data: It is also same as ordinal scale data but the additional advantage is here the difference can be measued but ratio cannot be measured ,eg.Tempurature, (iv)Ratio scale data: Here the order matters, Difference are measurable ,it contains a \"0\"starting point.eg.Obtained marks by student.\n"
   ]
  },
  {
   "cell_type": "markdown",
   "id": "d3d0aea1-2cb3-40b3-b52e-2ff21c79f0bc",
   "metadata": {},
   "source": [
    "Q6. Why is it important to understand the level of measurement when analyzing data? Provide an\n",
    "example to illustrate your answer."
   ]
  },
  {
   "cell_type": "markdown",
   "id": "1ddc0d78-6e41-4ae4-a4dc-4cd21c126d09",
   "metadata": {},
   "source": [
    "Ans:It is important to understand the level of measurement of variables in research, because the level of measurement determines the type of statistical analysis that can be conducted, and, therefore, the type of conclusions that can be drawn from the research.\n",
    "For example if we take Gender variable than we have to put it on nominal scale data because it cannot be orderedand there is no difference.i.e why it cannot be measured under ordinal,interval or ratio scale measurement."
   ]
  },
  {
   "cell_type": "markdown",
   "id": "cfcd609d-9b88-4b2f-be6c-dd66be0cfab8",
   "metadata": {},
   "source": [
    "Q7. How nominal data type is different from ordinal data type."
   ]
  },
  {
   "cell_type": "markdown",
   "id": "fde44fea-90d8-4a70-9c6d-6d44b5c76de1",
   "metadata": {},
   "source": [
    "Ans: Nominal data is a type f qualitative data where order does not matters. eg: Gender, colour etc.\n",
    "but in the case of ordinal data order matters. eg: Gradeetc."
   ]
  },
  {
   "cell_type": "markdown",
   "id": "2fe793b4-1f5b-4fa2-a613-0ca0e5e75c9f",
   "metadata": {},
   "source": [
    "Q8. Which type of plot can be used to display data in terms of range?"
   ]
  },
  {
   "cell_type": "markdown",
   "id": "cc009390-2f21-4b20-b771-1b8dae51ae38",
   "metadata": {},
   "source": [
    "Ans: In terms of range histogram can be used to plot to display the data."
   ]
  },
  {
   "cell_type": "markdown",
   "id": "c25f78c6-4c18-4e05-aac3-0061aa478019",
   "metadata": {},
   "source": [
    "Q9. Describe the difference between descriptive and inferential statistics. Give an example of each\n",
    "type of statistics and explain how they are used."
   ]
  },
  {
   "cell_type": "markdown",
   "id": "1e29a89c-7d9f-42f1-96cf-2c2741d59b10",
   "metadata": {},
   "source": [
    "Ans: Descriptive statistics is used for summarizing data and inferential statistics is used to draw the conclusion.\n",
    "Eg of descriptive statistics: Histogram, boxplot , Eg of inferential statistics: Z-test. By boxplot or histogram we getthe clear idea about mean medianand mode. where by Z=test or t-test we get to know what will be the conclusion of the overall population data."
   ]
  },
  {
   "cell_type": "markdown",
   "id": "64b30328-0992-43a8-b6e4-6cf9aa1f33fb",
   "metadata": {},
   "source": [
    "Q10. What are some common measures of central tendency and variability used in statistics? Explain\n",
    "how each measure can be used to describe a dataset."
   ]
  },
  {
   "cell_type": "markdown",
   "id": "50632324-a62c-4b93-b43b-996f5a59f3f7",
   "metadata": {},
   "source": [
    "ans: Mean median and mode are some common measures of central tendancy used in statistics. Mean helps us to get the average of the dataset, median helps us to give the middle value from the dataset and mode givs the value which has most frequency in the dataset."
   ]
  },
  {
   "cell_type": "code",
   "execution_count": null,
   "id": "ba447ff8-db75-49fc-b0bc-39f10418c76a",
   "metadata": {},
   "outputs": [],
   "source": []
  },
  {
   "cell_type": "code",
   "execution_count": null,
   "id": "9edc9f41-98dc-4b03-8e1c-9e2ac12aa124",
   "metadata": {},
   "outputs": [],
   "source": [
    "\n"
   ]
  },
  {
   "cell_type": "code",
   "execution_count": null,
   "id": "e7e7c571-27f2-4b96-b522-9eaedb49e7ea",
   "metadata": {},
   "outputs": [],
   "source": []
  },
  {
   "cell_type": "code",
   "execution_count": null,
   "id": "c8cca7a1-c59c-4b4b-ba46-8793b9f91ef0",
   "metadata": {},
   "outputs": [],
   "source": []
  },
  {
   "cell_type": "code",
   "execution_count": null,
   "id": "202c082d-2b67-49e7-a592-5285f5f8f885",
   "metadata": {},
   "outputs": [],
   "source": []
  },
  {
   "cell_type": "code",
   "execution_count": null,
   "id": "10ea0cc2-1bb2-4b68-b9aa-da65605de783",
   "metadata": {},
   "outputs": [],
   "source": []
  },
  {
   "cell_type": "code",
   "execution_count": null,
   "id": "288dc955-f21e-4428-81bf-cf1bab45f788",
   "metadata": {},
   "outputs": [],
   "source": []
  },
  {
   "cell_type": "code",
   "execution_count": null,
   "id": "8afa4c89-74d4-4dd8-b0fb-bda2d38588fe",
   "metadata": {},
   "outputs": [],
   "source": []
  }
 ],
 "metadata": {
  "kernelspec": {
   "display_name": "Python 3 (ipykernel)",
   "language": "python",
   "name": "python3"
  },
  "language_info": {
   "codemirror_mode": {
    "name": "ipython",
    "version": 3
   },
   "file_extension": ".py",
   "mimetype": "text/x-python",
   "name": "python",
   "nbconvert_exporter": "python",
   "pygments_lexer": "ipython3",
   "version": "3.10.8"
  }
 },
 "nbformat": 4,
 "nbformat_minor": 5
}
